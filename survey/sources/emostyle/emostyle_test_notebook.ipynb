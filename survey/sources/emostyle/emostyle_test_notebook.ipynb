{
  "nbformat": 4,
  "nbformat_minor": 0,
  "metadata": {
    "colab": {
      "provenance": [],
      "gpuType": "T4"
    },
    "kernelspec": {
      "name": "python3",
      "display_name": "Python 3"
    },
    "language_info": {
      "name": "python"
    },
    "accelerator": "GPU"
  },
  "cells": [
    {
      "cell_type": "code",
      "execution_count": 2,
      "metadata": {
        "colab": {
          "base_uri": "https://localhost:8080/"
        },
        "id": "z7wgJbTHz0Ba",
        "outputId": "0debeaa3-66dc-41b7-9910-051e219e124f"
      },
      "outputs": [
        {
          "output_type": "stream",
          "name": "stdout",
          "text": [
            "fatal: destination path 'emostyle' already exists and is not an empty directory.\n"
          ]
        }
      ],
      "source": [
        "# !git clone https://github.com/bihamta/emostyle.git\n"
      ]
    },
    {
      "cell_type": "code",
      "source": [
        "!pip install ninja\n",
        "!pip install lpips"
      ],
      "metadata": {
        "colab": {
          "base_uri": "https://localhost:8080/"
        },
        "id": "LNbsN3gSrt4E",
        "outputId": "24df3215-7eb7-4f5b-afdc-bc3cbf2d111d"
      },
      "execution_count": 1,
      "outputs": [
        {
          "output_type": "stream",
          "name": "stdout",
          "text": [
            "Collecting ninja\n",
            "  Downloading ninja-1.11.1.1-py2.py3-none-manylinux1_x86_64.manylinux_2_5_x86_64.whl (307 kB)\n",
            "\u001b[2K     \u001b[90m━━━━━━━━━━━━━━━━━━━━━━━━━━━━━━━━━━━━━━━━\u001b[0m \u001b[32m307.2/307.2 kB\u001b[0m \u001b[31m3.2 MB/s\u001b[0m eta \u001b[36m0:00:00\u001b[0m\n",
            "\u001b[?25hInstalling collected packages: ninja\n",
            "Successfully installed ninja-1.11.1.1\n"
          ]
        }
      ]
    },
    {
      "cell_type": "code",
      "source": [
        "from google.colab import drive\n",
        "drive.mount('/content/drive')"
      ],
      "metadata": {
        "colab": {
          "base_uri": "https://localhost:8080/"
        },
        "id": "LbYK4Z-96Xc_",
        "outputId": "815d92ea-98ad-42c3-dd60-f6d40c5180d2"
      },
      "execution_count": 3,
      "outputs": [
        {
          "output_type": "stream",
          "name": "stdout",
          "text": [
            "Mounted at /content/drive\n"
          ]
        }
      ]
    },
    {
      "cell_type": "code",
      "source": [
        "%cd /content/drive/MyDrive/emostyle/emostyle"
      ],
      "metadata": {
        "colab": {
          "base_uri": "https://localhost:8080/"
        },
        "id": "7A1yyY_s0Ixs",
        "outputId": "b9d0245a-9923-4306-e4d2-8f38fd759d22"
      },
      "execution_count": 4,
      "outputs": [
        {
          "output_type": "stream",
          "name": "stdout",
          "text": [
            "/content/drive/MyDrive/emostyle/emostyle\n"
          ]
        }
      ]
    },
    {
      "cell_type": "code",
      "source": [
        "# data(img, npy) path: https://github.com/woctezuma/stylegan2-projecting-images\n",
        "# resnet50 path: https://drive.usercontent.google.com/download?id=1A94PAAnwk6L7hXdBXLFosB_s0SzEhAFU&export=download&authuser=0\n",
        "# emonet path: https://github.com/face-analysis/emonet (va-estimation model)\n",
        "!python train_emostyle.py \\\n",
        "    --datapath \"dataset/test/\" \\\n",
        "    --stylegan2_checkpoint_path \"pretrained/ffhq.pkl\" \\\n",
        "    --vggface2_checkpoint_path \"pretrained/resnet50_ft_weight.pkl\" \\\n",
        "    --emonet_checkpoint_path \"pretrained/emonet_8.pth\" \\\n",
        "    --log_path \"logs/\" \\\n",
        "    --output_path \"checkpoints/\" \\\n",
        "    --wplus"
      ],
      "metadata": {
        "id": "c0NbQ0JrvTxg",
        "colab": {
          "base_uri": "https://localhost:8080/"
        },
        "outputId": "056441a5-c1d1-4140-d82c-4611943fdaa3"
      },
      "execution_count": 11,
      "outputs": [
        {
          "output_type": "stream",
          "name": "stdout",
          "text": [
            "/usr/local/lib/python3.10/dist-packages/torch/utils/data/dataloader.py:557: UserWarning: This DataLoader will create 8 worker processes in total. Our suggested max number of worker in current system is 2, which is smaller than what this DataLoader is going to create. Please be aware that excessive worker creation might get DataLoader running slow or even freeze, lower the worker number to avoid potential slowness/freeze if necessary.\n",
            "  warnings.warn(_create_warning_msg(\n",
            "Setting up PyTorch plugin \"bias_act_plugin\"... Done.\n",
            "Setting up PyTorch plugin \"upfirdn2d_plugin\"... Done.\n",
            "0 {'id_loss': '0.0044', 'emo_loss': '0.0022', 'landmarks': '0.0022', 'latent_loss': '0.0511', 'recon_loss': '0.0078', 'latent_reg': '0.0433', 'sum_non_gan': '0.1110'}\n",
            "0 {'id_loss': '0.0033', 'emo_loss': '0.1632', 'landmarks': '0.0019', 'bg_loss': '0.0051', 'latent_reg': '0.0414', 'sum_non_gan': '0.2148'}\n",
            "0 {'id_loss': '0.0049', 'emo_loss': '0.3345', 'landmarks': '0.0023', 'bg_loss': '0.0032', 'latent_reg': '0.0390', 'sum_non_gan': '0.3838'}\n",
            "/usr/local/lib/python3.10/dist-packages/torch/utils/data/dataloader.py:557: UserWarning: This DataLoader will create 8 worker processes in total. Our suggested max number of worker in current system is 2, which is smaller than what this DataLoader is going to create. Please be aware that excessive worker creation might get DataLoader running slow or even freeze, lower the worker number to avoid potential slowness/freeze if necessary.\n",
            "  warnings.warn(_create_warning_msg(\n",
            "1 {'id_loss': '0.0039', 'emo_loss': '0.1406', 'landmarks': '0.0027', 'bg_loss': '0.0033', 'latent_reg': '0.0332', 'sum_non_gan': '0.1837'}\n",
            "1 {'id_loss': '0.0051', 'emo_loss': '0.1817', 'landmarks': '0.0029', 'bg_loss': '0.0038', 'latent_reg': '0.0350', 'sum_non_gan': '0.2286'}\n",
            "1 {'id_loss': '0.0035', 'emo_loss': '0.2251', 'landmarks': '0.0037', 'bg_loss': '0.0070', 'latent_reg': '0.0333', 'sum_non_gan': '0.2726'}\n",
            "/usr/local/lib/python3.10/dist-packages/torch/utils/data/dataloader.py:557: UserWarning: This DataLoader will create 8 worker processes in total. Our suggested max number of worker in current system is 2, which is smaller than what this DataLoader is going to create. Please be aware that excessive worker creation might get DataLoader running slow or even freeze, lower the worker number to avoid potential slowness/freeze if necessary.\n",
            "  warnings.warn(_create_warning_msg(\n",
            "2 {'id_loss': '0.0046', 'emo_loss': '0.0498', 'landmarks': '0.0037', 'bg_loss': '0.0039', 'latent_reg': '0.0317', 'sum_non_gan': '0.0937'}\n",
            "2 {'id_loss': '0.0054', 'emo_loss': '0.0968', 'landmarks': '0.0027', 'bg_loss': '0.0036', 'latent_reg': '0.0341', 'sum_non_gan': '0.1427'}\n",
            "2 {'id_loss': '0.0035', 'emo_loss': '0.1731', 'landmarks': '0.0037', 'bg_loss': '0.0070', 'latent_reg': '0.0306', 'sum_non_gan': '0.2179'}\n",
            "/usr/local/lib/python3.10/dist-packages/torch/utils/data/dataloader.py:557: UserWarning: This DataLoader will create 8 worker processes in total. Our suggested max number of worker in current system is 2, which is smaller than what this DataLoader is going to create. Please be aware that excessive worker creation might get DataLoader running slow or even freeze, lower the worker number to avoid potential slowness/freeze if necessary.\n",
            "  warnings.warn(_create_warning_msg(\n",
            "3 {'id_loss': '0.0045', 'emo_loss': '0.0106', 'landmarks': '0.0019', 'latent_loss': '0.0383', 'recon_loss': '0.0099', 'latent_reg': '0.0325', 'sum_non_gan': '0.0977'}\n",
            "3 {'id_loss': '0.0058', 'emo_loss': '0.0167', 'landmarks': '0.0027', 'latent_loss': '0.0369', 'recon_loss': '0.0066', 'latent_reg': '0.0313', 'sum_non_gan': '0.0999'}\n",
            "3 {'id_loss': '0.0041', 'emo_loss': '0.1542', 'landmarks': '0.0057', 'bg_loss': '0.0047', 'latent_reg': '0.0313', 'sum_non_gan': '0.2001'}\n",
            "/usr/local/lib/python3.10/dist-packages/torch/utils/data/dataloader.py:557: UserWarning: This DataLoader will create 8 worker processes in total. Our suggested max number of worker in current system is 2, which is smaller than what this DataLoader is going to create. Please be aware that excessive worker creation might get DataLoader running slow or even freeze, lower the worker number to avoid potential slowness/freeze if necessary.\n",
            "  warnings.warn(_create_warning_msg(\n",
            "4 {'id_loss': '0.0047', 'emo_loss': '0.1203', 'landmarks': '0.0036', 'bg_loss': '0.0039', 'latent_reg': '0.0268', 'sum_non_gan': '0.1592'}\n",
            "4 {'id_loss': '0.0054', 'emo_loss': '0.1299', 'landmarks': '0.0041', 'bg_loss': '0.0052', 'latent_reg': '0.0318', 'sum_non_gan': '0.1765'}\n",
            "4 {'id_loss': '0.0048', 'emo_loss': '0.0137', 'landmarks': '0.0026', 'bg_loss': '0.0040', 'latent_reg': '0.0303', 'sum_non_gan': '0.0553'}\n",
            "/usr/local/lib/python3.10/dist-packages/torch/utils/data/dataloader.py:557: UserWarning: This DataLoader will create 8 worker processes in total. Our suggested max number of worker in current system is 2, which is smaller than what this DataLoader is going to create. Please be aware that excessive worker creation might get DataLoader running slow or even freeze, lower the worker number to avoid potential slowness/freeze if necessary.\n",
            "  warnings.warn(_create_warning_msg(\n",
            "5 {'id_loss': '0.0058', 'emo_loss': '0.1194', 'landmarks': '0.0037', 'bg_loss': '0.0040', 'latent_reg': '0.0322', 'sum_non_gan': '0.1651'}\n",
            "5 {'id_loss': '0.0044', 'emo_loss': '0.0867', 'landmarks': '0.0037', 'bg_loss': '0.0036', 'latent_reg': '0.0238', 'sum_non_gan': '0.1222'}\n",
            "5 {'id_loss': '0.0044', 'emo_loss': '0.1190', 'landmarks': '0.0031', 'bg_loss': '0.0065', 'latent_reg': '0.0286', 'sum_non_gan': '0.1616'}\n"
          ]
        }
      ]
    },
    {
      "cell_type": "code",
      "source": [
        "!python pti_invert.py"
      ],
      "metadata": {
        "colab": {
          "base_uri": "https://localhost:8080/"
        },
        "id": "xzt8K9gE1kQO",
        "outputId": "7e9cb960-9c7b-4191-bd82-299265041f3e"
      },
      "execution_count": null,
      "outputs": [
        {
          "output_type": "stream",
          "name": "stdout",
          "text": [
            "Loading e4e over the pSp framework from checkpoint: pretrained/e4e_ffhq_encode.pt\n",
            "  0% 0/1 [00:00<?, ?it/s]inverting, experiment/images/kdhee.jpg\n",
            "100% 1/1 [00:01<00:00,  1.53s/it]\n"
          ]
        }
      ]
    },
    {
      "cell_type": "code",
      "source": [
        "!python personalized.py \\\n",
        "    --datapath \"experiment\" \\\n",
        "    --stylegan2_checkpoint_path \"pretrained/ffhq.pkl\" \\\n",
        "    --emo_mapping_checkpoint_path \"checkpoints/checkpoint_5.pt\" \\\n",
        "    --vggface2_checkpoint_path \"pretrained/resnet50_ft_weight.pkl\" \\\n",
        "    --emonet_checkpoint_path \"pretrained/emonet_8.pth\" \\\n",
        "    --log_path \"logs/personalized\" \\\n",
        "    --inversion_type 'e4e' \\\n",
        "    --output_path \"checkpoints/\" \\\n",
        "    --wplus"
      ],
      "metadata": {
        "id": "gu26frwS4q0J",
        "colab": {
          "base_uri": "https://localhost:8080/"
        },
        "outputId": "4d5cfbf2-7096-4d3d-b86d-7826329c888a"
      },
      "execution_count": 43,
      "outputs": [
        {
          "output_type": "stream",
          "name": "stdout",
          "text": [
            "Setting up [LPIPS] perceptual loss: trunk [alex], v[0.1], spatial [off]\n",
            "/usr/local/lib/python3.10/dist-packages/torchvision/models/_utils.py:208: UserWarning: The parameter 'pretrained' is deprecated since 0.13 and may be removed in the future, please use 'weights' instead.\n",
            "  warnings.warn(\n",
            "/usr/local/lib/python3.10/dist-packages/torchvision/models/_utils.py:223: UserWarning: Arguments other than a weight enum or `None` for 'weights' are deprecated since 0.13 and may be removed in the future. The current behavior is equivalent to passing `weights=AlexNet_Weights.IMAGENET1K_V1`. You can also use `weights=AlexNet_Weights.DEFAULT` to get the most up-to-date weights.\n",
            "  warnings.warn(msg)\n",
            "Loading model from: /usr/local/lib/python3.10/dist-packages/lpips/weights/v0.1/alex.pth\n",
            "100\n",
            "Setting up PyTorch plugin \"bias_act_plugin\"... Done.\n",
            "Setting up PyTorch plugin \"upfirdn2d_plugin\"... Done.\n",
            "0 {'id_loss': '0.0073', 'emo_loss': '0.0099', 'landmarks': '0.0000', 'lpips_loss': '0.1680', 'sum_non_gan': '0.1979'}\n",
            "1 {'id_loss': '0.0068', 'emo_loss': '0.0413', 'landmarks': '0.0000', 'sum_non_gan': '0.0481'}\n",
            "2 {'id_loss': '0.0066', 'emo_loss': '0.0199', 'landmarks': '0.0000', 'sum_non_gan': '0.0265'}\n",
            "3 {'id_loss': '0.0064', 'emo_loss': '0.0029', 'landmarks': '0.0000', 'sum_non_gan': '0.0093'}\n",
            "4 {'id_loss': '0.0063', 'emo_loss': '0.0849', 'landmarks': '0.0000', 'sum_non_gan': '0.0912'}\n",
            "5 {'id_loss': '0.0060', 'emo_loss': '0.0042', 'landmarks': '0.0000', 'sum_non_gan': '0.0102'}\n",
            "6 {'id_loss': '0.0057', 'emo_loss': '0.0431', 'landmarks': '0.0000', 'sum_non_gan': '0.0488'}\n",
            "7 {'id_loss': '0.0054', 'emo_loss': '0.0030', 'landmarks': '0.0000', 'sum_non_gan': '0.0084'}\n",
            "8 {'id_loss': '0.0052', 'emo_loss': '0.1442', 'landmarks': '0.0000', 'sum_non_gan': '0.1494'}\n",
            "9 {'id_loss': '0.0050', 'emo_loss': '0.0162', 'landmarks': '0.0000', 'lpips_loss': '0.1455', 'sum_non_gan': '0.1773'}\n",
            "10 {'id_loss': '0.0049', 'emo_loss': '0.0096', 'landmarks': '0.0000', 'lpips_loss': '0.1442', 'sum_non_gan': '0.1693'}\n",
            "11 {'id_loss': '0.0049', 'emo_loss': '0.0490', 'landmarks': '0.0000', 'sum_non_gan': '0.0539'}\n",
            "12 {'id_loss': '0.0049', 'emo_loss': '0.0498', 'landmarks': '0.0000', 'sum_non_gan': '0.0547'}\n",
            "13 {'id_loss': '0.0048', 'emo_loss': '0.0531', 'landmarks': '0.0000', 'sum_non_gan': '0.0580'}\n",
            "14 {'id_loss': '0.0048', 'emo_loss': '0.0386', 'landmarks': '0.0000', 'sum_non_gan': '0.0433'}\n",
            "15 {'id_loss': '0.0047', 'emo_loss': '0.0047', 'landmarks': '0.0000', 'sum_non_gan': '0.0094'}\n",
            "16 {'id_loss': '0.0046', 'emo_loss': '0.0327', 'landmarks': '0.0000', 'sum_non_gan': '0.0373'}\n",
            "17 {'id_loss': '0.0046', 'emo_loss': '0.0230', 'landmarks': '0.0000', 'sum_non_gan': '0.0277'}\n",
            "18 {'id_loss': '0.0046', 'emo_loss': '0.0020', 'landmarks': '0.0000', 'sum_non_gan': '0.0065'}\n",
            "19 {'id_loss': '0.0046', 'emo_loss': '0.0032', 'landmarks': '0.0000', 'lpips_loss': '0.1377', 'sum_non_gan': '0.1560'}\n",
            "20 {'id_loss': '0.0045', 'emo_loss': '0.0037', 'landmarks': '0.0000', 'lpips_loss': '0.1370', 'sum_non_gan': '0.1557'}\n",
            "21 {'id_loss': '0.0045', 'emo_loss': '0.0025', 'landmarks': '0.0000', 'sum_non_gan': '0.0069'}\n",
            "22 {'id_loss': '0.0044', 'emo_loss': '0.0084', 'landmarks': '0.0000', 'sum_non_gan': '0.0128'}\n",
            "23 {'id_loss': '0.0043', 'emo_loss': '0.0130', 'landmarks': '0.0000', 'sum_non_gan': '0.0173'}\n",
            "24 {'id_loss': '0.0042', 'emo_loss': '0.0463', 'landmarks': '0.0000', 'sum_non_gan': '0.0505'}\n",
            "25 {'id_loss': '0.0042', 'emo_loss': '0.0489', 'landmarks': '0.0000', 'sum_non_gan': '0.0530'}\n",
            "26 {'id_loss': '0.0041', 'emo_loss': '0.0680', 'landmarks': '0.0000', 'sum_non_gan': '0.0720'}\n",
            "27 {'id_loss': '0.0040', 'emo_loss': '0.0239', 'landmarks': '0.0000', 'sum_non_gan': '0.0278'}\n",
            "28 {'id_loss': '0.0039', 'emo_loss': '0.0016', 'landmarks': '0.0000', 'sum_non_gan': '0.0055'}\n",
            "29 {'id_loss': '0.0039', 'emo_loss': '0.0003', 'landmarks': '0.0000', 'lpips_loss': '0.1317', 'sum_non_gan': '0.1459'}\n",
            "30 {'id_loss': '0.0038', 'emo_loss': '0.0000', 'landmarks': '0.0000', 'lpips_loss': '0.1311', 'sum_non_gan': '0.1449'}\n",
            "31 {'id_loss': '0.0037', 'emo_loss': '0.0182', 'landmarks': '0.0000', 'sum_non_gan': '0.0219'}\n",
            "32 {'id_loss': '0.0037', 'emo_loss': '0.0311', 'landmarks': '0.0000', 'sum_non_gan': '0.0348'}\n",
            "33 {'id_loss': '0.0037', 'emo_loss': '0.0006', 'landmarks': '0.0000', 'sum_non_gan': '0.0043'}\n",
            "34 {'id_loss': '0.0036', 'emo_loss': '0.0738', 'landmarks': '0.0000', 'sum_non_gan': '0.0775'}\n",
            "35 {'id_loss': '0.0036', 'emo_loss': '0.0015', 'landmarks': '0.0000', 'sum_non_gan': '0.0051'}\n",
            "36 {'id_loss': '0.0035', 'emo_loss': '0.0098', 'landmarks': '0.0000', 'sum_non_gan': '0.0133'}\n",
            "37 {'id_loss': '0.0035', 'emo_loss': '0.0145', 'landmarks': '0.0000', 'sum_non_gan': '0.0180'}\n",
            "38 {'id_loss': '0.0034', 'emo_loss': '0.0672', 'landmarks': '0.0000', 'sum_non_gan': '0.0706'}\n",
            "39 {'id_loss': '0.0033', 'emo_loss': '0.0000', 'landmarks': '0.0000', 'lpips_loss': '0.1259', 'sum_non_gan': '0.1387'}\n",
            "40 {'id_loss': '0.0033', 'emo_loss': '0.0004', 'landmarks': '0.0000', 'lpips_loss': '0.1252', 'sum_non_gan': '0.1383'}\n",
            "41 {'id_loss': '0.0032', 'emo_loss': '0.0802', 'landmarks': '0.0000', 'sum_non_gan': '0.0834'}\n",
            "42 {'id_loss': '0.0032', 'emo_loss': '0.0118', 'landmarks': '0.0000', 'sum_non_gan': '0.0151'}\n",
            "43 {'id_loss': '0.0032', 'emo_loss': '0.0213', 'landmarks': '0.0000', 'sum_non_gan': '0.0245'}\n",
            "44 {'id_loss': '0.0032', 'emo_loss': '0.0691', 'landmarks': '0.0000', 'sum_non_gan': '0.0724'}\n",
            "45 {'id_loss': '0.0032', 'emo_loss': '0.0157', 'landmarks': '0.0000', 'sum_non_gan': '0.0190'}\n",
            "46 {'id_loss': '0.0032', 'emo_loss': '0.0831', 'landmarks': '0.0000', 'sum_non_gan': '0.0863'}\n",
            "47 {'id_loss': '0.0032', 'emo_loss': '0.0581', 'landmarks': '0.0000', 'sum_non_gan': '0.0613'}\n",
            "48 {'id_loss': '0.0032', 'emo_loss': '0.0272', 'landmarks': '0.0000', 'sum_non_gan': '0.0304'}\n",
            "49 {'id_loss': '0.0032', 'emo_loss': '0.0048', 'landmarks': '0.0000', 'lpips_loss': '0.1210', 'sum_non_gan': '0.1381'}\n",
            "50 {'id_loss': '0.0032', 'emo_loss': '0.0052', 'landmarks': '0.0000', 'lpips_loss': '0.1205', 'sum_non_gan': '0.1380'}\n",
            "51 {'id_loss': '0.0032', 'emo_loss': '0.0801', 'landmarks': '0.0000', 'sum_non_gan': '0.0833'}\n",
            "52 {'id_loss': '0.0032', 'emo_loss': '0.0049', 'landmarks': '0.0000', 'sum_non_gan': '0.0081'}\n",
            "53 {'id_loss': '0.0031', 'emo_loss': '0.0038', 'landmarks': '0.0000', 'sum_non_gan': '0.0069'}\n",
            "54 {'id_loss': '0.0031', 'emo_loss': '0.0532', 'landmarks': '0.0000', 'sum_non_gan': '0.0563'}\n",
            "55 {'id_loss': '0.0031', 'emo_loss': '0.0235', 'landmarks': '0.0000', 'sum_non_gan': '0.0266'}\n",
            "56 {'id_loss': '0.0031', 'emo_loss': '0.0745', 'landmarks': '0.0000', 'sum_non_gan': '0.0776'}\n",
            "57 {'id_loss': '0.0031', 'emo_loss': '0.0654', 'landmarks': '0.0000', 'sum_non_gan': '0.0685'}\n",
            "58 {'id_loss': '0.0031', 'emo_loss': '0.0383', 'landmarks': '0.0000', 'sum_non_gan': '0.0413'}\n",
            "59 {'id_loss': '0.0030', 'emo_loss': '0.0066', 'landmarks': '0.0000', 'lpips_loss': '0.1177', 'sum_non_gan': '0.1362'}\n",
            "60 {'id_loss': '0.0030', 'emo_loss': '0.0064', 'landmarks': '0.0000', 'lpips_loss': '0.1171', 'sum_non_gan': '0.1354'}\n",
            "61 {'id_loss': '0.0029', 'emo_loss': '0.0227', 'landmarks': '0.0000', 'sum_non_gan': '0.0256'}\n",
            "62 {'id_loss': '0.0029', 'emo_loss': '0.0434', 'landmarks': '0.0000', 'sum_non_gan': '0.0464'}\n",
            "63 {'id_loss': '0.0029', 'emo_loss': '0.0526', 'landmarks': '0.0000', 'sum_non_gan': '0.0555'}\n",
            "64 {'id_loss': '0.0028', 'emo_loss': '0.0457', 'landmarks': '0.0000', 'sum_non_gan': '0.0485'}\n",
            "65 {'id_loss': '0.0028', 'emo_loss': '0.0016', 'landmarks': '0.0000', 'sum_non_gan': '0.0045'}\n",
            "66 {'id_loss': '0.0028', 'emo_loss': '0.0061', 'landmarks': '0.0000', 'sum_non_gan': '0.0089'}\n",
            "67 {'id_loss': '0.0028', 'emo_loss': '0.0530', 'landmarks': '0.0000', 'sum_non_gan': '0.0558'}\n",
            "68 {'id_loss': '0.0028', 'emo_loss': '0.0054', 'landmarks': '0.0000', 'sum_non_gan': '0.0081'}\n",
            "69 {'id_loss': '0.0027', 'emo_loss': '0.0048', 'landmarks': '0.0000', 'lpips_loss': '0.1131', 'sum_non_gan': '0.1292'}\n",
            "70 {'id_loss': '0.0027', 'emo_loss': '0.0048', 'landmarks': '0.0000', 'lpips_loss': '0.1126', 'sum_non_gan': '0.1286'}\n",
            "71 {'id_loss': '0.0027', 'emo_loss': '0.0656', 'landmarks': '0.0000', 'sum_non_gan': '0.0683'}\n",
            "72 {'id_loss': '0.0027', 'emo_loss': '0.0519', 'landmarks': '0.0000', 'sum_non_gan': '0.0546'}\n",
            "73 {'id_loss': '0.0027', 'emo_loss': '0.0389', 'landmarks': '0.0000', 'sum_non_gan': '0.0416'}\n",
            "74 {'id_loss': '0.0027', 'emo_loss': '0.0736', 'landmarks': '0.0000', 'sum_non_gan': '0.0763'}\n",
            "75 {'id_loss': '0.0026', 'emo_loss': '0.0167', 'landmarks': '0.0000', 'sum_non_gan': '0.0193'}\n",
            "76 {'id_loss': '0.0026', 'emo_loss': '0.0236', 'landmarks': '0.0000', 'sum_non_gan': '0.0262'}\n",
            "77 {'id_loss': '0.0026', 'emo_loss': '0.0196', 'landmarks': '0.0000', 'sum_non_gan': '0.0222'}\n",
            "78 {'id_loss': '0.0025', 'emo_loss': '0.0530', 'landmarks': '0.0000', 'sum_non_gan': '0.0556'}\n",
            "79 {'id_loss': '0.0025', 'emo_loss': '0.0049', 'landmarks': '0.0000', 'lpips_loss': '0.1088', 'sum_non_gan': '0.1244'}\n",
            "80 {'id_loss': '0.0025', 'emo_loss': '0.0050', 'landmarks': '0.0000', 'lpips_loss': '0.1083', 'sum_non_gan': '0.1239'}\n",
            "81 {'id_loss': '0.0025', 'emo_loss': '0.0463', 'landmarks': '0.0000', 'sum_non_gan': '0.0488'}\n",
            "82 {'id_loss': '0.0025', 'emo_loss': '0.0813', 'landmarks': '0.0000', 'sum_non_gan': '0.0838'}\n",
            "83 {'id_loss': '0.0025', 'emo_loss': '0.0521', 'landmarks': '0.0000', 'sum_non_gan': '0.0546'}\n",
            "84 {'id_loss': '0.0025', 'emo_loss': '0.0051', 'landmarks': '0.0000', 'sum_non_gan': '0.0075'}\n",
            "85 {'id_loss': '0.0024', 'emo_loss': '0.0010', 'landmarks': '0.0000', 'sum_non_gan': '0.0035'}\n",
            "86 {'id_loss': '0.0024', 'emo_loss': '0.0067', 'landmarks': '0.0000', 'sum_non_gan': '0.0091'}\n",
            "87 {'id_loss': '0.0024', 'emo_loss': '0.0160', 'landmarks': '0.0000', 'sum_non_gan': '0.0184'}\n",
            "88 {'id_loss': '0.0024', 'emo_loss': '0.0105', 'landmarks': '0.0000', 'sum_non_gan': '0.0129'}\n",
            "89 {'id_loss': '0.0024', 'emo_loss': '0.0045', 'landmarks': '0.0000', 'lpips_loss': '0.1052', 'sum_non_gan': '0.1199'}\n",
            "90 {'id_loss': '0.0024', 'emo_loss': '0.0044', 'landmarks': '0.0000', 'lpips_loss': '0.1045', 'sum_non_gan': '0.1191'}\n",
            "91 {'id_loss': '0.0023', 'emo_loss': '0.0708', 'landmarks': '0.0000', 'sum_non_gan': '0.0732'}\n",
            "92 {'id_loss': '0.0023', 'emo_loss': '0.0662', 'landmarks': '0.0000', 'sum_non_gan': '0.0685'}\n",
            "93 {'id_loss': '0.0023', 'emo_loss': '0.0416', 'landmarks': '0.0000', 'sum_non_gan': '0.0439'}\n",
            "94 {'id_loss': '0.0023', 'emo_loss': '0.0340', 'landmarks': '0.0000', 'sum_non_gan': '0.0363'}\n",
            "95 {'id_loss': '0.0023', 'emo_loss': '0.0472', 'landmarks': '0.0000', 'sum_non_gan': '0.0495'}\n",
            "96 {'id_loss': '0.0023', 'emo_loss': '0.0265', 'landmarks': '0.0000', 'sum_non_gan': '0.0288'}\n",
            "97 {'id_loss': '0.0022', 'emo_loss': '0.0070', 'landmarks': '0.0000', 'sum_non_gan': '0.0093'}\n",
            "98 {'id_loss': '0.0022', 'emo_loss': '0.0063', 'landmarks': '0.0000', 'sum_non_gan': '0.0085'}\n",
            "99 {'id_loss': '0.0022', 'emo_loss': '0.0046', 'landmarks': '0.0000', 'lpips_loss': '0.1023', 'sum_non_gan': '0.1169'}\n"
          ]
        }
      ]
    },
    {
      "cell_type": "code",
      "source": [
        "!python test.py \\\n",
        "    --images_path \"experiment/images/\" \\\n",
        "    --stylegan2_checkpoint_path \"pretrained/ffhq.pkl\" \\\n",
        "    --checkpoint_path \"checkpoints/checkpoint_5.pt\" \\\n",
        "    --output_path \"experiment/outputs/\" \\\n",
        "    --valence 0 -0.5 0.2 \\\n",
        "    --arousal 0 -0.5 0.2 \\\n",
        "    --wplus\n",
        "\n",
        "    # --test_mode your_test_mode \\"
      ],
      "metadata": {
        "colab": {
          "base_uri": "https://localhost:8080/"
        },
        "id": "99l9TzGZemTB",
        "outputId": "1947b3a0-0913-4dc8-c85f-890930972b0a"
      },
      "execution_count": 49,
      "outputs": [
        {
          "output_type": "stream",
          "name": "stdout",
          "text": [
            "True\n",
            "Traceback (most recent call last):\n",
            "  File \"/content/drive/MyDrive/emostyle/emostyle/test.py\", line 176, in <module>\n",
            "    test(\n",
            "  File \"/content/drive/MyDrive/emostyle/emostyle/test.py\", line 88, in test\n",
            "    image_latent = np.load(latent_path, allow_pickle=False)\n",
            "  File \"/usr/local/lib/python3.10/dist-packages/numpy/lib/npyio.py\", line 405, in load\n",
            "    fid = stack.enter_context(open(os_fspath(file), \"rb\"))\n",
            "FileNotFoundError: [Errno 2] No such file or directory: 'experiment/images/004665.npy'\n"
          ]
        }
      ]
    }
  ]
}